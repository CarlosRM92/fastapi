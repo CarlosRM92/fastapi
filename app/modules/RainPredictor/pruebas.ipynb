{
 "cells": [
  {
   "cell_type": "code",
   "execution_count": null,
   "metadata": {},
   "outputs": [],
   "source": [
    "from abc import ABC, abstractmethod\n",
    "import random\n",
    "\n",
    "class PrediccionClima(ABC):\n",
    "    @abstractmethod\n",
    "    def llovera(self) -> bool:\n",
    "        pass\n",
    "\n",
    "class PrediccionClimaSimple(PrediccionClima):\n",
    "    def llovera(self) -> bool:\n",
    "        # Simulamos una predicción simple donde hay un 30% de posibilidad de lluvia\n",
    "        return random.random() < 0.3\n",
    "\n",
    "class PrediccionClimaAvanzada(PrediccionClima):\n",
    "    def llovera(self) -> bool:\n",
    "        # Simulamos una predicción avanzada donde hay un 60% de posibilidad de lluvia\n",
    "        return random.random() < 0.6\n",
    "\n",
    "class PronosticadorLluvia:\n",
    "    def __init__(self, prediccion_clima: PrediccionClima):\n",
    "        self.prediccion_clima = prediccion_clima\n",
    "\n",
    "    def predecir(self) -> bool:\n",
    "        return self.prediccion_clima.llovera()"
   ]
  },
  {
   "cell_type": "code",
   "execution_count": null,
   "metadata": {},
   "outputs": [],
   "source": [
    "prediccion_simple = PrediccionClimaSimple()\n",
    "pronosticador_simple = PronosticadorLluvia(prediccion_simple)\n",
    "print(\"Predicción simple: \", pronosticador_simple.predecir())\n",
    "\n",
    "prediccion_avanzada = PrediccionClimaAvanzada()\n",
    "pronosticador_avanzado = PronosticadorLluvia(prediccion_avanzada)\n",
    "print(\"Predicción avanzada: \", pronosticador_avanzado.predecir())"
   ]
  }
 ],
 "metadata": {
  "language_info": {
   "name": "python"
  }
 },
 "nbformat": 4,
 "nbformat_minor": 2
}
